{
 "cells": [
  {
   "cell_type": "markdown",
   "metadata": {},
   "source": [
    "# 1. Data types"
   ]
  },
  {
   "cell_type": "markdown",
   "metadata": {},
   "source": [
    "### Install numpy\n",
    "\n",
    "If you want to use numpy on your own laptop, then you first have to install it. Numpy is already installed on the university's jupyter server.\n",
    "For more information about installing numpy: http://docs.scipy.org/doc/numpy-1.10.1/user/install.html\n",
    "\n",
    "In case you want to use Python also for other courses or for you thesis, then you might consider to install the whole scipy stack. This includes often used packages such as numpy, scipy, matplotlib, ipython and pandas. For more information: http://www.scipy.org/install.html"
   ]
  },
  {
   "cell_type": "markdown",
   "metadata": {},
   "source": [
    "### General information\n",
    "\n",
    "- Scipy Lecture Notes: http://www.scipy-lectures.org/\n",
    "- A short numpy tutorial: https://docs.scipy.org/doc/numpy-dev/user/quickstart.html\n",
    "- Basics of numpy:\n",
    "https://www.safaribooksonline.com/library/view/python-for-data/9781449323592/ch04.html\n",
    "\n",
    "And if you want to know everything about a particular function, access the reference: \n",
    "http://docs.scipy.org/doc/numpy/reference/index.html#reference or the user guide: http://docs.scipy.org/doc/numpy/user/index.html#user\n",
    "\n",
    "When you want to use functions from the numpy package, you first have to import numpy."
   ]
  },
  {
   "cell_type": "code",
   "execution_count": 1,
   "metadata": {
    "collapsed": true
   },
   "outputs": [],
   "source": [
    "import numpy"
   ]
  },
  {
   "cell_type": "markdown",
   "metadata": {},
   "source": [
    "### Data types in Python\n",
    "\n",
    "Before discussing Numpy datatypes, first a small of the data types in Python:\n",
    "\n",
    "- boolean (True, False)\n",
    "- int (integer)\n",
    "- float\n",
    "- complex \n",
    "- str (string)\n",
    "- byte\n",
    "- list [ ]\n",
    "- tuple ( )\n",
    "- set\n",
    "- dict { } (dictionary)\n",
    "\n",
    "The types can be divided into immutable and mutable types. \n",
    "The content of immutable types cannot be changed after creation. \n",
    "- Immutable data types: int, float, complex, str, and tuple.\n",
    "- Mutable data types: list, set and dict."
   ]
  },
  {
   "cell_type": "markdown",
   "metadata": {},
   "source": [
    "### Data types in Numpy\n",
    "\n",
    "Numpy is based on **arrays**. You can think of an array as a list, or a table, where each cell of the table contains an item of the same **datatype**. \n",
    "\n",
    "Data types in Numpy are a bit different than in basic Python.\n",
    "One array can only have one data type. \n",
    "The data type of the array x can be obtained with the x.dtype function. \n",
    "\n",
    "The 5 basic data types of a numerical variable are:\n",
    "- float (float16, float32, or float64)\n",
    "- integer (int8, int16, int32, or int64)\n",
    "- unsigned integer: this number cannot be negative (uint8, uint16, uint32, or uint64)\n",
    "- boolean (bool)\n",
    "- complex (complex64 or complex128)\n",
    "\n",
    "The numbers 8, 16, 32, 64, 128 in the name of datatypes are used to indicate the memory storage.\n",
    "\n",
    "The data type `int8` only uses 1 byte (8 bits) and therefore this variable can only store a number in the range of -128 to 127. \n",
    "\n",
    "1 byte contains 8 bits and a bit can have either value 0 or value 1. The data type int16 uses 2 bytes and therefore this variable can store a number in the range of -32768 to 32767. \n",
    "\n",
    "For the unsigned integer, the number can never by negative and therefore the data type uint8 can have a value in the range of 0 to 255, where 255 = 2^8 - 1. \n",
    "\n",
    "\n",
    "Another important datatype is:\n",
    "\n",
    "- string (for example <U3 or <U64, where number indicates the maximum length of the strings)\n"
   ]
  },
  {
   "cell_type": "code",
   "execution_count": 2,
   "metadata": {
    "collapsed": false
   },
   "outputs": [
    {
     "name": "stdout",
     "output_type": "stream",
     "text": [
      "[1 3 5 7 9] int64\n",
      "[ 2.2  4.4  6.6  8.8] float64\n",
      "[ True False  True] bool\n",
      "['a' 'b' 'cde'] <U3\n"
     ]
    }
   ],
   "source": [
    "# array with integers:\n",
    "x = numpy.array([1, 3, 5, 7, 9])\n",
    "print(x, x.dtype)\n",
    "\n",
    "# array with floats:\n",
    "y = numpy.array([2.2, 4.4, 6.6, 8.8])\n",
    "print(y, y.dtype)\n",
    "\n",
    "# array with booleans:\n",
    "z = numpy.array([True, False, True])\n",
    "print(z, z.dtype)\n",
    "\n",
    "# array with strings:\n",
    "x = numpy.array([\"a\", \"b\", \"cde\"])\n",
    "print(x, x.dtype)\n"
   ]
  },
  {
   "cell_type": "markdown",
   "metadata": {
    "collapsed": false
   },
   "source": [
    "In case you mix different data types and you do not explicitly specify the data types, then the elements are converted to the same type. \n",
    "\n",
    "You can specify the data type of the array when you create the array with the `array()` function using the `dtype` keyword argument. Note that not every combination is possible. For example, when your array contains text then you cannot choose float as data types, because the text cannot be converted to floats, except when the text is exactly representing a floating point number."
   ]
  },
  {
   "cell_type": "code",
   "execution_count": 3,
   "metadata": {
    "collapsed": false
   },
   "outputs": [
    {
     "name": "stdout",
     "output_type": "stream",
     "text": [
      "['1' '3.4' 'True' '(2.3+4.5j)' 'a'] <U64\n",
      "[ 9.  8.  7.  6.] float64\n"
     ]
    }
   ],
   "source": [
    "# array with mixed data types:\n",
    "x = numpy.array([1, 3.4, True, 2.3+4.5j, \"a\"])\n",
    "print(x, x.dtype)\n",
    "\n",
    "# explicitly specify the data type:\n",
    "y = numpy.array([9, 8, 7, 6], dtype='float')\n",
    "print(y, y.dtype)"
   ]
  },
  {
   "cell_type": "code",
   "execution_count": 4,
   "metadata": {
    "collapsed": false
   },
   "outputs": [
    {
     "name": "stdout",
     "output_type": "stream",
     "text": [
      "[12  3 24] int64\n"
     ]
    },
    {
     "ename": "ValueError",
     "evalue": "invalid literal for int() with base 10: 'one'",
     "output_type": "error",
     "traceback": [
      "\u001b[0;31m---------------------------------------------------------------------------\u001b[0m",
      "\u001b[0;31mValueError\u001b[0m                                Traceback (most recent call last)",
      "\u001b[0;32m<ipython-input-4-4d774ba706c1>\u001b[0m in \u001b[0;36m<module>\u001b[0;34m()\u001b[0m\n\u001b[1;32m      6\u001b[0m \u001b[0;34m\u001b[0m\u001b[0m\n\u001b[1;32m      7\u001b[0m \u001b[0mnumerals\u001b[0m \u001b[0;34m=\u001b[0m \u001b[0;34m[\u001b[0m\u001b[0;34m\"one\"\u001b[0m\u001b[0;34m,\u001b[0m \u001b[0;34m\"two\"\u001b[0m\u001b[0;34m,\u001b[0m \u001b[0;34m\"three\"\u001b[0m\u001b[0;34m]\u001b[0m\u001b[0;34m\u001b[0m\u001b[0m\n\u001b[0;32m----> 8\u001b[0;31m \u001b[0ma\u001b[0m \u001b[0;34m=\u001b[0m \u001b[0mnumpy\u001b[0m\u001b[0;34m.\u001b[0m\u001b[0marray\u001b[0m\u001b[0;34m(\u001b[0m\u001b[0mnumerals\u001b[0m\u001b[0;34m,\u001b[0m \u001b[0mdtype\u001b[0m\u001b[0;34m=\u001b[0m\u001b[0;34m'int'\u001b[0m\u001b[0;34m)\u001b[0m\u001b[0;34m\u001b[0m\u001b[0m\n\u001b[0m\u001b[1;32m      9\u001b[0m \u001b[0mprint\u001b[0m \u001b[0;34m(\u001b[0m\u001b[0ma\u001b[0m\u001b[0;34m,\u001b[0m \u001b[0ma\u001b[0m\u001b[0;34m.\u001b[0m\u001b[0mdtype\u001b[0m\u001b[0;34m)\u001b[0m\u001b[0;34m\u001b[0m\u001b[0m\n",
      "\u001b[0;31mValueError\u001b[0m: invalid literal for int() with base 10: 'one'"
     ]
    }
   ],
   "source": [
    "# Try to convert strings to integers\n",
    "\n",
    "strings = [\"12\", \"3\", \"24\"]\n",
    "z = numpy.array(strings, dtype='int')\n",
    "print (z, z.dtype)\n",
    "\n",
    "numerals = [\"one\", \"two\", \"three\"]\n",
    "a = numpy.array(numerals, dtype='int')\n",
    "print (a, a.dtype)"
   ]
  },
  {
   "cell_type": "markdown",
   "metadata": {},
   "source": [
    "### Convert to a different data type\n",
    "\n",
    "Using the function `astype` is another way to convert between different datatypes.\n",
    "For example, `x.astype(float)` to convert x to the data type float. \n",
    "Converting data types is called casting. "
   ]
  },
  {
   "cell_type": "code",
   "execution_count": 5,
   "metadata": {
    "collapsed": false
   },
   "outputs": [
    {
     "name": "stdout",
     "output_type": "stream",
     "text": [
      "[1 3 5 7 9] int64\n",
      "[ 1.  3.  5.  7.  9.] float64\n",
      "\n",
      "['1.4' '3.4' '5.4'] <U3\n",
      "[ 1.4  3.4  5.4] float64\n"
     ]
    }
   ],
   "source": [
    "# convert an array with integers to the data type float:\n",
    "x = numpy.array([1, 3, 5, 7, 9])\n",
    "print(x, x.dtype)\n",
    "g = x.astype('float')\n",
    "print(g, g.dtype)\n",
    "print()\n",
    "\n",
    "# convert an array with strings to float:\n",
    "y = numpy.array([\"1.4\", \"3.4\", \"5.4\"])\n",
    "print(y, y.dtype)\n",
    "h = y.astype('float')\n",
    "print(h, h.dtype)"
   ]
  },
  {
   "cell_type": "markdown",
   "metadata": {},
   "source": [
    "Sometimes, the data types are converted but the content is slightly changed. \n",
    "For example, when converting from float to integer, then the numbers are rounded down (floor). \n",
    "For example, when converting an array with only zeros and ones to the data type Boolean than the 0 is converted to False and the 1 is converted to True. "
   ]
  },
  {
   "cell_type": "code",
   "execution_count": 6,
   "metadata": {
    "collapsed": false
   },
   "outputs": [
    {
     "name": "stdout",
     "output_type": "stream",
     "text": [
      "[ 2.2  3.2  2.8] float64\n",
      "[2 3 2] int64\n",
      "\n",
      "[0 1 1 0] int64\n",
      "[False  True  True False] bool\n"
     ]
    }
   ],
   "source": [
    "# from float to integer\n",
    "x = numpy.array([2.2, 3.2, 2.8])\n",
    "print(x, x.dtype)\n",
    "a = x.astype('int')\n",
    "print(a, a.dtype)\n",
    "print()\n",
    "\n",
    "# from 0-1 to boolean\n",
    "x = numpy.array([0, 1, 1, 0])\n",
    "print(x, x.dtype)\n",
    "a = x.astype('bool')\n",
    "print(a, a.dtype)"
   ]
  },
  {
   "cell_type": "markdown",
   "metadata": {},
   "source": [
    "Not every data type can be converted to all other data types. Some examples:\n",
    "- String to Boolean when for example x = [\"a\", \"b\", \"c\"]\n",
    "- String to Integer when for example x = [\"a\", \"b\", \"c\"]"
   ]
  },
  {
   "cell_type": "markdown",
   "metadata": {},
   "source": [
    "### Some important things\n",
    "\n",
    "In Numpy, division by zero results in inf (infinity) and a RuntimeWarning. \n",
    "In basic Python, division by zero results in the ZeroDivisionError message."
   ]
  },
  {
   "cell_type": "code",
   "execution_count": 7,
   "metadata": {
    "collapsed": false
   },
   "outputs": [
    {
     "name": "stdout",
     "output_type": "stream",
     "text": [
      "[ inf]\n"
     ]
    },
    {
     "name": "stderr",
     "output_type": "stream",
     "text": [
      "/usr/local/lib/python3.4/dist-packages/ipykernel/__main__.py:4: RuntimeWarning: divide by zero encountered in true_divide\n"
     ]
    }
   ],
   "source": [
    "# divison by zero in Numpy\n",
    "x = numpy.array([4])\n",
    "y = numpy.array([0])\n",
    "print(x/y)"
   ]
  },
  {
   "cell_type": "markdown",
   "metadata": {},
   "source": [
    "When you want to use infinity as a value for your variable or inside your array, then you can use the following expressions:\n",
    "- numpy.inf for infinity\n",
    "- numpy.PINF for positive infinity\n",
    "- numpy.NINF for negative infinity\n",
    "\n",
    "In order to check whether the variables has value infinity the following functions can be useful:\n",
    "- numpy.isinf(x) : This function returns True when the value of x is either positive infinity or negative infinity. \n",
    "- numpy.isneginf(x) : This function returns True when the value of x is negative infinity.\n",
    "- numpy.isposinf(x) : This function returns True when the value of x is positive infinity.\n",
    "- numpy.isfinite(x) : This function is the opposite of the isinf() function.\n",
    "\n",
    "Then there is something called Not A Number (NAN):\n",
    "- numpy.nan : Create NAN value\n",
    "- numpy.isnan(x) : This function returns True when the value of x is Not A Number (NAN)."
   ]
  },
  {
   "cell_type": "markdown",
   "metadata": {
    "collapsed": true
   },
   "source": [
    "### Exercises"
   ]
  },
  {
   "cell_type": "markdown",
   "metadata": {},
   "source": [
    "#### Exercise 1.1\n",
    "\n",
    "Some conversions between datatypes lose information, and are therefore not reversible. \n",
    "Decide which of the following conversions are lossy i.e. not reversible. Write examples to check your guess.\n",
    "\n",
    "1. float -> int\n",
    "2. bool  -> int\n",
    "3. int   -> '<U16'\n",
    "4. int   -> float\n",
    "5. float64 -> float32\n",
    "6. float32 -> float64"
   ]
  },
  {
   "cell_type": "markdown",
   "metadata": {},
   "source": [
    "#### Exercise 1.2\n",
    "\n",
    "The following function `linetofloat` takes a string which contains float numbers separated by \n",
    "spaces and returns an array of floats. Complete the definition of the function\n",
    "For example:\n",
    "\n",
    "```linetofloat(\"3.14 12.3 4.0\") -> array([3.14, 12.3, 4.0])\n",
    "```"
   ]
  },
  {
   "cell_type": "code",
   "execution_count": 1,
   "metadata": {
    "collapsed": false
   },
   "outputs": [],
   "source": [
    "def linetofloat(text):\n",
    "    #\n",
    "    #\n",
    "    #\n",
    "    return"
   ]
  },
  {
   "cell_type": "markdown",
   "metadata": {},
   "source": [
    "#### Exercise 1.3\n",
    "\n",
    "Open and inspect the file [populations.txt](populations.txt). It contains some numerical data. \n",
    "Search the internet to find out which numpy function you can use to load this data into a numpy array. Load the data, and convert it to `float32`."
   ]
  },
  {
   "cell_type": "code",
   "execution_count": null,
   "metadata": {
    "collapsed": true
   },
   "outputs": [],
   "source": []
  }
 ],
 "metadata": {
  "kernelspec": {
   "display_name": "Python 3",
   "language": "python",
   "name": "python3"
  },
  "language_info": {
   "codemirror_mode": {
    "name": "ipython",
    "version": 3
   },
   "file_extension": ".py",
   "mimetype": "text/x-python",
   "name": "python",
   "nbconvert_exporter": "python",
   "pygments_lexer": "ipython3",
   "version": "3.4.3+"
  }
 },
 "nbformat": 4,
 "nbformat_minor": 0
}
