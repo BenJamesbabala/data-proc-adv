{
 "cells": [
  {
   "cell_type": "markdown",
   "metadata": {},
   "source": [
    "## Arrays: extras"
   ]
  },
  {
   "cell_type": "code",
   "execution_count": 2,
   "metadata": {
    "collapsed": false
   },
   "outputs": [],
   "source": [
    "import numpy"
   ]
  },
  {
   "cell_type": "markdown",
   "metadata": {},
   "source": [
    "### For loops over arrays\n",
    "\n",
    "Most of the time you want to use arrays to avoid loops, but sometimes you want to use a loop. Then it is important to know how numpy iterates over an array. When a for loop is used to iterate over an array then the first `for` loop will iterate over the first dimension. When two nested for loops are used, then the loops iterate over the first two dimensions. \n",
    "\n",
    "It is easier to use an example to explain it.\n",
    "\n",
    "When you use a for loop over a 3 dimensional array with shape (2, 3, 4) then you will receive exactly 2 iterations and in each iteration a 3 by 4 array is used. \n",
    "When you use two nested for loops over a 3 dimensional array with shape (2, 3, 4) then you will receive exactly 2*3=6 iterations and in each iteration an array of length 4 is used. \n",
    "\n",
    "When you want to have a for loop over all the elements in the array, then you can better use the flat method instead of nested loops. For example, x.flat. "
   ]
  },
  {
   "cell_type": "code",
   "execution_count": 3,
   "metadata": {
    "collapsed": false
   },
   "outputs": [
    {
     "name": "stdout",
     "output_type": "stream",
     "text": [
      "\n",
      " For loop over the first dimension\n",
      "[[ 0  1  2  3]\n",
      " [ 4  5  6  7]\n",
      " [ 8  9 10 11]]\n",
      "[[12 13 14 15]\n",
      " [16 17 18 19]\n",
      " [20 21 22 23]]\n",
      "\n",
      " For loop over the first and second dimension\n",
      "[0 1 2 3]\n",
      "[4 5 6 7]\n",
      "[ 8  9 10 11]\n",
      "[12 13 14 15]\n",
      "[16 17 18 19]\n",
      "[20 21 22 23]\n",
      "\n",
      " For loop over all elements with the flat method\n",
      "0\n",
      "1\n",
      "2\n",
      "3\n",
      "4\n",
      "5\n",
      "6\n",
      "7\n",
      "8\n",
      "9\n",
      "10\n",
      "11\n",
      "12\n",
      "13\n",
      "14\n",
      "15\n",
      "16\n",
      "17\n",
      "18\n",
      "19\n",
      "20\n",
      "21\n",
      "22\n",
      "23\n"
     ]
    }
   ],
   "source": [
    "# for loop over the first dimension:\n",
    "z = numpy.arange(24).reshape((2, 3, 4))\n",
    "print(\"\\n For loop over the first dimension\")\n",
    "for firstdimension in z:\n",
    "    print(firstdimension)\n",
    "\n",
    "print(\"\\n For loop over the first and second dimension\")\n",
    "# for loop over the first and second dimension:\n",
    "for firstdimension in z:\n",
    "    for seconddimension in firstdimension:\n",
    "        print(seconddimension)\n",
    "     \n",
    "print(\"\\n For loop over all elements with the flat method\")\n",
    "for element in z.flat:\n",
    "    print(element)"
   ]
  },
  {
   "cell_type": "markdown",
   "metadata": {},
   "source": [
    "### Copy of matrix\n",
    "\n",
    "When you do operations on an array, then you have to be careful whether or not the array is copied or only referenced to. When you change something in the copied array, then you have to be careful whether or not also the original array is changed.\n",
    "\n",
    "There are three cases:\n",
    "- No copy at all: only a reference to the existing object. When you change anything then the original array is also changed.\n",
    "- View or shallow copy: different array objects share the same data. When you reshape the array then the change in shape is not shared with the original array, but when you change the data then the change in data is shared with the original array and the original array is also changed. A shallow copy can be made with the y = x.view() function. When you slice an array then only a view is returned and no copy of the data is made.\n",
    "- Deep copy: complete copy of array and data. When you change something in the copied array then the original array remains the same. A deep copy can be made in numpy with the y = x.copy() function. \n",
    "\n"
   ]
  },
  {
   "cell_type": "code",
   "execution_count": 4,
   "metadata": {
    "collapsed": false
   },
   "outputs": [
    {
     "name": "stdout",
     "output_type": "stream",
     "text": [
      "shallow copy:  [[   0    1    2 1000    4]\n",
      " [   5    6    7    8    9]]\n",
      "original:  [   0    1    2 1000    4    5    6    7    8    9]\n"
     ]
    }
   ],
   "source": [
    "# shallow copy\n",
    "a = numpy.arange(10)\n",
    "b = a.view()\n",
    "b.shape = (2,5)\n",
    "b[0, 3] = 1000\n",
    "print(\"shallow copy: \", b)\n",
    "print(\"original: \", a)"
   ]
  },
  {
   "cell_type": "code",
   "execution_count": 5,
   "metadata": {
    "collapsed": false
   },
   "outputs": [
    {
     "name": "stdout",
     "output_type": "stream",
     "text": [
      "deep copy:  [[   0    1]\n",
      " [   2    3]\n",
      " [   4    5]\n",
      " [   6 1000]\n",
      " [   8    9]]\n",
      "original:  [0 1 2 3 4 5 6 7 8 9]\n"
     ]
    }
   ],
   "source": [
    "# deep copy\n",
    "a = numpy.arange(10)\n",
    "c = a.copy()\n",
    "c.shape = (5,2)\n",
    "c[3,1] = 1000\n",
    "print(\"deep copy: \", c)\n",
    "print(\"original: \", a)"
   ]
  },
  {
   "cell_type": "markdown",
   "metadata": {
    "collapsed": true
   },
   "source": [
    "### Split array into vectors\n",
    "\n",
    "The opposite of vector stacking is to split the array a list of vectors pieces. The first argument is the array and the second argument is the number of pieces to split the array in. It is important that that the number of pieces you want is possible given the number of rows or columns. Two different ways of splitting:\n",
    "- Vertical split: `numpy.vsplit(x, 2)`\n",
    "- Horizontal split: `numpy.hsplit(x, 3)`\n"
   ]
  },
  {
   "cell_type": "code",
   "execution_count": 8,
   "metadata": {
    "collapsed": false
   },
   "outputs": [
    {
     "name": "stdout",
     "output_type": "stream",
     "text": [
      "[[ 0  1  2  3]\n",
      " [ 4  5  6  7]\n",
      " [ 8  9 10 11]\n",
      " [12 13 14 15]]\n",
      "Vertical split: \n",
      "[array([[0, 1, 2, 3],\n",
      "       [4, 5, 6, 7]]), array([[ 8,  9, 10, 11],\n",
      "       [12, 13, 14, 15]])]\n",
      "Horizontal split: \n",
      "[array([[ 0],\n",
      "       [ 4],\n",
      "       [ 8],\n",
      "       [12]]), array([[ 1],\n",
      "       [ 5],\n",
      "       [ 9],\n",
      "       [13]]), array([[ 2],\n",
      "       [ 6],\n",
      "       [10],\n",
      "       [14]]), array([[ 3],\n",
      "       [ 7],\n",
      "       [11],\n",
      "       [15]])]\n"
     ]
    }
   ],
   "source": [
    "x = numpy.arange(16).reshape(4,4)\n",
    "print(x)\n",
    "print(\"Vertical split: \")\n",
    "print(numpy.vsplit(x, 2))\n",
    "print(\"Horizontal split: \")\n",
    "print(numpy.hsplit(x, 4))"
   ]
  },
  {
   "cell_type": "code",
   "execution_count": null,
   "metadata": {
    "collapsed": true
   },
   "outputs": [],
   "source": []
  }
 ],
 "metadata": {
  "kernelspec": {
   "display_name": "Python 3",
   "language": "python",
   "name": "python3"
  },
  "language_info": {
   "codemirror_mode": {
    "name": "ipython",
    "version": 3
   },
   "file_extension": ".py",
   "mimetype": "text/x-python",
   "name": "python",
   "nbconvert_exporter": "python",
   "pygments_lexer": "ipython3",
   "version": "3.4.3"
  }
 },
 "nbformat": 4,
 "nbformat_minor": 1
}
