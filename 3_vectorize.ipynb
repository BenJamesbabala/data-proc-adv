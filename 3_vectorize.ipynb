{
 "cells": [
  {
   "cell_type": "markdown",
   "metadata": {},
   "source": [
    "# 3. Vectorized operations"
   ]
  },
  {
   "cell_type": "code",
   "execution_count": 100,
   "metadata": {
    "collapsed": true
   },
   "outputs": [],
   "source": [
    "import numpy"
   ]
  },
  {
   "cell_type": "markdown",
   "metadata": {},
   "source": [
    "## Basic operations on arrays with the same shape\n",
    "\n",
    "The basic operations on arrays are applied elementwise.\n",
    "The basic operations are addition, subtraction, multiplication, division and power.\n",
    "The simplest case is when the shapes of the arrays are exactly the same, then an elementwise operation is straightforward. "
   ]
  },
  {
   "cell_type": "code",
   "execution_count": 101,
   "metadata": {
    "collapsed": false
   },
   "outputs": [
    {
     "name": "stdout",
     "output_type": "stream",
     "text": [
      "y - x =  [ -5 -13  22  -6]\n",
      "x + y =  [15 27 82 74]\n",
      "x * y =  [  50  140 1560 1360]\n",
      "x / y =  [ 2.          2.85714286  0.57692308  1.17647059]\n"
     ]
    }
   ],
   "source": [
    "# basic operations between two arrays with the same shape:\n",
    "x = numpy.array([10, 20, 30, 40])\n",
    "y = numpy.array([5, 7, 52, 34])\n",
    "\n",
    "print(\"y - x = \", y - x)\n",
    "print(\"x + y = \", x + y)\n",
    "print(\"x * y = \", x * y)\n",
    "print(\"x / y = \", x / y)"
   ]
  },
  {
   "cell_type": "markdown",
   "metadata": {},
   "source": [
    "## Basic operations on arrays with different shapes\n",
    "\n",
    "Besides operations between arrays of the same shape, also operations between arrays of different shapes are allowed, but are not always possible. Operations on arrays with different shapes is often called broadcasting.\n",
    "\n",
    "There are some different types of broadcasting:\n",
    "- Basic operations between an array and a constant, then there are no restrictions on the shape."
   ]
  },
  {
   "cell_type": "markdown",
   "metadata": {},
   "source": [
    "- Basic operations between an array and a row vector, then the number of columns in the array has to be the same as the length of the row vector."
   ]
  },
  {
   "cell_type": "markdown",
   "metadata": {},
   "source": [
    "- Basic operations between an array and a column vector, then the number of rows in the array has to be the same as the length of the column vector.\n",
    "\n",
    "When applying operations between an array and a row or column vector the shapes are still important.\n",
    "For example, let $x$ be a $2\\times 3$ array, let $y$ be a row vector with 3 elements, and let $z$ be a column vector with 2 elements.\n",
    "\n",
    "When applying operations between array $x$ and row vector $y$, then the operations are applied for each row, and the number of column in the array has to be the same as the length of the row vector."
   ]
  },
  {
   "cell_type": "markdown",
   "metadata": {},
   "source": [
    "When applying operations between array $x$ and column vector $z$, then the operations are applied for each column, and the number of rows in the array has to be the same as the length of the column vector. \n",
    "When operations are applied between arrays of different shapes and the number of rows or columns is not the same, then this will return an error message.\n",
    "\n",
    "For more information about Broadcasting:\n",
    "http://docs.scipy.org/doc/numpy/user/basics.broadcasting.html"
   ]
  },
  {
   "cell_type": "code",
   "execution_count": 102,
   "metadata": {
    "collapsed": false
   },
   "outputs": [
    {
     "name": "stdout",
     "output_type": "stream",
     "text": [
      "x - 2 =  [18 23 28 33]\n",
      "x * 2 =  [40 50 60 70]\n",
      "x **2 =  [ 400  625  900 1225]\n"
     ]
    }
   ],
   "source": [
    "# constant term\n",
    "x = numpy.array([20, 25, 30, 35])\n",
    "print(\"x - 2 = \", x - 2)\n",
    "print(\"x * 2 = \", x * 2)\n",
    "print(\"x **2 = \", x**2)"
   ]
  },
  {
   "cell_type": "code",
   "execution_count": 103,
   "metadata": {
    "collapsed": false
   },
   "outputs": [
    {
     "name": "stdout",
     "output_type": "stream",
     "text": [
      "[[1 2 3]\n",
      " [4 5 6]]\n",
      "[5 5 5]\n",
      "[[1]\n",
      " [2]]\n"
     ]
    }
   ],
   "source": [
    "# operations between array and vector\n",
    "x = numpy.array([[1, 2, 3], [4, 5, 6]])\n",
    "y = numpy.array([5, 5, 5]) # row vector\n",
    "z = numpy.array([[1], [2]]) # column vector\n",
    "\n",
    "print(x)\n",
    "print(y)\n",
    "print(z)"
   ]
  },
  {
   "cell_type": "code",
   "execution_count": 104,
   "metadata": {
    "collapsed": false
   },
   "outputs": [
    {
     "name": "stdout",
     "output_type": "stream",
     "text": [
      "Operations between x and y which are applied for each row\n",
      "x + y = \n",
      " [[ 6  7  8]\n",
      " [ 9 10 11]]\n",
      "x * y = \n",
      " [[ 5 10 15]\n",
      " [20 25 30]]\n"
     ]
    }
   ],
   "source": [
    "# array and row vector\n",
    "print(\"Operations between x and y which are applied for each row\")\n",
    "print(\"x + y = \\n\", x+y)\n",
    "print(\"x * y = \\n\", x*y)"
   ]
  },
  {
   "cell_type": "code",
   "execution_count": 105,
   "metadata": {
    "collapsed": false
   },
   "outputs": [
    {
     "name": "stdout",
     "output_type": "stream",
     "text": [
      "Operations between x and z which are applied for each column\n",
      "x + z = \n",
      " [[2 3 4]\n",
      " [6 7 8]]\n",
      "x * z = \n",
      " [[ 1  2  3]\n",
      " [ 8 10 12]]\n"
     ]
    }
   ],
   "source": [
    "# array and column vector\n",
    "print(\"Operations between x and z which are applied for each column\")\n",
    "print(\"x + z = \\n\", x+z)\n",
    "print(\"x * z = \\n\", x*z)"
   ]
  },
  {
   "cell_type": "markdown",
   "metadata": {},
   "source": [
    "## Vector transformations\n",
    "\n",
    "Simple examples of operations on vectors are:\n",
    "\n",
    "- Standardization: `z = (x - mean(x)) / stdev(x)`. Standardized values (z-scores) have zero mean and unit standard deviation. Standardization is often used before applying machine learning algorithms. \n",
    "\n",
    "- Feature scaling: `y = (x - min(x)) / (max(x) - min(x))`, this brings the score in the range 0 to 1.\n",
    "\n",
    "- Convertion between different scales of measurements. Some examples: from Fahrenheit to Celsius, or from Dollars to Euros, or from Inches to Centimetres. \n",
    "\n",
    "These transformations can be applied to the whole array, but also to only one column or row. \n",
    "When applying to only one row or column of an array, then indexing can be used to indicate the vector.\n",
    "\n",
    "### Exercise 3.1\n",
    "\n",
    "Define function `standardize` which converts a vector of numbers to z-scores.\n"
   ]
  },
  {
   "cell_type": "code",
   "execution_count": 106,
   "metadata": {
    "collapsed": true
   },
   "outputs": [],
   "source": [
    "def standardize(x):\n",
    "    return ..."
   ]
  },
  {
   "cell_type": "markdown",
   "metadata": {
    "collapsed": false
   },
   "source": [
    "### Exercise 3.2\n",
    "- Define function `to_cm` which takes a vector of measurements in inches and converts them to centimeters.\n",
    "- Define function `to_celsius` which takes a vector of measurements in Fahrenheit and converts them to Celsius: C = (F-32)/1.8\n"
   ]
  },
  {
   "cell_type": "code",
   "execution_count": null,
   "metadata": {
    "collapsed": false
   },
   "outputs": [],
   "source": []
  },
  {
   "cell_type": "markdown",
   "metadata": {},
   "source": [
    "## Boolean operations on arrays\n",
    "\n",
    "Boolean conditions can also applied to the arrays. They are applied to every element in the array. Several different conditions can be used, such as: equal to (==), not equal to (!=), greater than (>= or >), or smaller than (<= or <). "
   ]
  },
  {
   "cell_type": "code",
   "execution_count": 107,
   "metadata": {
    "collapsed": false
   },
   "outputs": [
    {
     "name": "stdout",
     "output_type": "stream",
     "text": [
      "(x > 15) =  [False  True  True False False  True]\n",
      "(y == 7) =  [ True False False  True False  True]\n"
     ]
    }
   ],
   "source": [
    "# boolean operations on arrays\n",
    "x = numpy.array([10, 20, 30, 14, 15, 16])\n",
    "y = numpy.array([7, 5, 5, 7, 5, 7]) \n",
    "print(\"(x > 15) = \", x>15)\n",
    "print(\"(y == 7) = \", y==7)"
   ]
  },
  {
   "cell_type": "markdown",
   "metadata": {},
   "source": [
    "## Mathematical functions applied on vectors"
   ]
  },
  {
   "cell_type": "markdown",
   "metadata": {},
   "source": [
    "A lot of mathematical functions can be applied to arrays and they are applied elementwise, such as:\n",
    "- numpy.sqrt(x): square root\n",
    "- numpy.sin(x): sine\n",
    "- numpy.cos(x): cosine\n",
    "- numpy.tan(x): tangent\n",
    "- numpy.exp(x): exponential\n",
    "- numpy.log(x): natural logarithm"
   ]
  },
  {
   "cell_type": "code",
   "execution_count": 108,
   "metadata": {
    "collapsed": false
   },
   "outputs": [
    {
     "name": "stdout",
     "output_type": "stream",
     "text": [
      "x =  [1 2 3 4]\n",
      "sqrt(x) =  [ 1.          1.41421356  1.73205081  2.        ]\n",
      "sin(x) =  [ 0.84147098  0.90929743  0.14112001 -0.7568025 ]\n",
      "cos(x) =  [ 0.54030231 -0.41614684 -0.9899925  -0.65364362]\n",
      "tan(x) =  [ 1.55740772 -2.18503986 -0.14254654  1.15782128]\n",
      "exp(x) =  [  2.71828183   7.3890561   20.08553692  54.59815003]\n",
      "log(x) =  [ 0.          0.69314718  1.09861229  1.38629436]\n"
     ]
    }
   ],
   "source": [
    "x = numpy.array([1, 2, 3, 4])\n",
    "print(\"x = \", x)\n",
    "print(\"sqrt(x) = \", numpy.sqrt(x))\n",
    "print(\"sin(x) = \", numpy.sin(x) )\n",
    "print(\"cos(x) = \", numpy.cos(x) )\n",
    "print(\"tan(x) = \", numpy.tan(x) )\n",
    "print(\"exp(x) = \", numpy.exp(x) )\n",
    "print(\"log(x) = \", numpy.log(x) )"
   ]
  },
  {
   "cell_type": "markdown",
   "metadata": {},
   "source": [
    "## Reductions\n",
    "\n",
    "Some functions can be applied to the entire array or to only one dimensio:\n",
    "\n",
    "- x.sum() and numpy.cumsum(x)\n",
    "- x.min() and x.argmin()\n",
    "- x.max() and x.argmax()\n",
    "\n",
    "These functions have a parameter which is called axis. When `axis=0` then sum per column (or the minimum etc) per column is returned. When `axis=1` then sum per row is returned. In higher dimensional arrays, the same logic applies. \n",
    "\n",
    "One important thing to notice is that when the `argmin` or `argmax` functions are applied, then the index of the minimum or maximum is returned, but this index is the linear index and not the index in all the dimensions (see  [2b_arrays.ipynb](2b_arrays.ipynb))\n"
   ]
  },
  {
   "cell_type": "code",
   "execution_count": 109,
   "metadata": {
    "collapsed": false
   },
   "outputs": [
    {
     "name": "stdout",
     "output_type": "stream",
     "text": [
      "sum: 29\n",
      "minimum: 1 and index of minimum: 0\n",
      "maximum: 8 and index of maximum: 5\n"
     ]
    }
   ],
   "source": [
    "x = numpy.array([[1, 6, 5], [2, 7, 8]])\n",
    "\n",
    "# functions applied to the entire array:\n",
    "print(\"sum:\", x.sum())\n",
    "print(\"minimum:\", x.min(), \"and index of minimum:\", x.argmin())\n",
    "print(\"maximum:\", x.max(), \"and index of maximum:\", x.argmax())"
   ]
  },
  {
   "cell_type": "code",
   "execution_count": 110,
   "metadata": {
    "collapsed": false
   },
   "outputs": [
    {
     "name": "stdout",
     "output_type": "stream",
     "text": [
      "column sums: [ 3 13 13]\n",
      "row sums: [12 17]\n",
      "minimum per column: [1 6 5]\n",
      "maximum per row: [6 8]\n"
     ]
    }
   ],
   "source": [
    "# functions applied to only one dimension of the array:\n",
    "print(\"column sums:\", x.sum(axis=0))\n",
    "print(\"row sums:\", x.sum(axis=1))\n",
    "print(\"minimum per column:\", x.min(axis=0))\n",
    "print(\"maximum per row:\", x.max(axis=1))"
   ]
  },
  {
   "cell_type": "markdown",
   "metadata": {},
   "source": [
    "### Exercise 3.3\n",
    "Define function `scale` which takes a vector of numbers and brings them to the range from 0 to 1:\n",
    "$$\\mathrm{scale}(x_i) = \\frac{x_i - min(x)}{max(x) - min(x)}$$"
   ]
  },
  {
   "cell_type": "code",
   "execution_count": 111,
   "metadata": {
    "collapsed": false
   },
   "outputs": [],
   "source": [
    "def scale(x):\n",
    "    return (x - x.min())/(x.max() - x.min())"
   ]
  },
  {
   "cell_type": "markdown",
   "metadata": {},
   "source": [
    "### Exercise 3.4\n",
    "\n",
    "The function `softmax` is often used in machine learning and statistics to convert a vector of arbitrary numbers into a vector of probabilities summing up to $1$. Softmax is computed by computing the exponential of each number, and then dividing each number by the sum of the exponentials:\n",
    "$$ \\mathrm{softmax}(x_i): \\frac{\\exp(x_i)}{\\sum_{k=1}^N \\exp(x_k)}$$\n",
    "\n",
    "Implement the softmax function. Verify that in the resulting vector all number are between 0 and 1. Verify that the resulting numbers sum up to $1$.\n",
    "\n"
   ]
  },
  {
   "cell_type": "code",
   "execution_count": 112,
   "metadata": {
    "collapsed": false
   },
   "outputs": [],
   "source": [
    "def softmax(x):\n",
    "    ..."
   ]
  },
  {
   "cell_type": "markdown",
   "metadata": {},
   "source": [
    "## Sorting\n",
    "The arrays can be sorted which is similiar as sorting lists in Python. The functions `sort` and `argsort` can be applied to arrays.\n",
    "When applied to a 2-dimensional array the sort operation will apply per row and therefore also the indices are based on the position in the row."
   ]
  },
  {
   "cell_type": "code",
   "execution_count": 113,
   "metadata": {
    "collapsed": false
   },
   "outputs": [
    {
     "name": "stdout",
     "output_type": "stream",
     "text": [
      "Applied to 1-dimensional array\n",
      "unsorted x: [5 3 6 2 6 8]\n",
      "sorted x:  [2 3 5 6 6 8]\n",
      "indices of argsort: [3 1 0 2 4 5]\n"
     ]
    }
   ],
   "source": [
    "# sorting an 1-dimensional array:\n",
    "print(\"Applied to 1-dimensional array\")\n",
    "x = numpy.array([5, 3, 6, 2, 6, 8])\n",
    "print(\"unsorted x:\", x)\n",
    "y = x.argsort()\n",
    "x.sort()\n",
    "print(\"sorted x: \", x)\n",
    "print(\"indices of argsort:\", y)"
   ]
  },
  {
   "cell_type": "code",
   "execution_count": 114,
   "metadata": {
    "collapsed": false
   },
   "outputs": [
    {
     "name": "stdout",
     "output_type": "stream",
     "text": [
      "Applied to 2-dimensional array\n",
      "unsorted x: [[5 3 6]\n",
      " [2 6 8]]\n",
      "sorted x:  [[3 5 6]\n",
      " [2 6 8]]\n",
      "indices of argsort: [[1 0 2]\n",
      " [0 1 2]]\n"
     ]
    }
   ],
   "source": [
    "# sorting an 2-dimensional array:\n",
    "print(\"Applied to 2-dimensional array\")\n",
    "x = numpy.array([[5, 3, 6], [2, 6, 8]])\n",
    "print(\"unsorted x:\", x)\n",
    "y = x.argsort()\n",
    "x.sort()\n",
    "print(\"sorted x: \", x)\n",
    "print(\"indices of argsort:\", y)"
   ]
  },
  {
   "cell_type": "markdown",
   "metadata": {},
   "source": [
    "## Reversing\n",
    "\n",
    "There is a special indexing syntax in `numpy` to obtain a view of the array in the reverse order. "
   ]
  },
  {
   "cell_type": "code",
   "execution_count": 115,
   "metadata": {
    "collapsed": false
   },
   "outputs": [
    {
     "name": "stdout",
     "output_type": "stream",
     "text": [
      "[8 2 8 3 7]\n",
      "\n",
      "[7 3 8 2 8]\n"
     ]
    }
   ],
   "source": [
    "a = numpy.random.randint(0,10,5)\n",
    "print(a)\n",
    "print()\n",
    "print(a[::-1])"
   ]
  },
  {
   "cell_type": "markdown",
   "metadata": {
    "collapsed": true
   },
   "source": [
    "### Exercise 3.5\n",
    "\n",
    "The file `winequality-red.csv` contains measurements of wine samples, together with a quality rating. You can load this data into a structured array like this:"
   ]
  },
  {
   "cell_type": "code",
   "execution_count": 116,
   "metadata": {
    "collapsed": false
   },
   "outputs": [],
   "source": [
    "data = numpy.genfromtxt(\"winequality-red.csv\", names=True, delimiter=';')"
   ]
  },
  {
   "cell_type": "markdown",
   "metadata": {},
   "source": [
    "- Sort the data according to the quality rating, from lowest to highest\n",
    "- Now sort the wines from highest to lowest"
   ]
  },
  {
   "cell_type": "markdown",
   "metadata": {},
   "source": [
    "### Rounding \n",
    "\n",
    "If you want to round every element in the array then the following rounding functions can be used:\n",
    "- numpy.round(x, decimals = 2 )\n",
    "- numpy.floor(x)\n",
    "- numpy.ceil(x)\n"
   ]
  },
  {
   "cell_type": "code",
   "execution_count": 117,
   "metadata": {
    "collapsed": false
   },
   "outputs": [
    {
     "name": "stdout",
     "output_type": "stream",
     "text": [
      "not rounded: [[ 6.62056169  9.99372912  5.54082401  5.97427961  1.36261238]]\n",
      "round: [[ 6.62  9.99  5.54  5.97  1.36]]\n",
      "floor: [[ 6.  9.  5.  5.  1.]]\n",
      "ceil: [[  7.  10.   6.   6.   2.]]\n"
     ]
    }
   ],
   "source": [
    "# rounding \n",
    "x = 10*numpy.random.random((1,5))\n",
    "print(\"not rounded:\", x)\n",
    "\n",
    "x1 = numpy.round(x, decimals = 2)\n",
    "print(\"round:\", x1)\n",
    "\n",
    "x2 = numpy.floor(x)\n",
    "print(\"floor:\", x2)\n",
    "\n",
    "x3 = numpy.ceil(x)\n",
    "print(\"ceil:\", x3)"
   ]
  },
  {
   "cell_type": "markdown",
   "metadata": {},
   "source": [
    "### Statistics\n",
    "\n",
    "To apply some basic statistical functions to the numpy array x, the following functions can be useful:\n",
    "- numpy.median(x) : median\n",
    "- numpy.mean(x) : mean\n",
    "- numpy.average(x, axis= , weights= ) : (weighted) average\n",
    "- numpy.std(x) : standard deviation\n",
    "- numpy.var(x) : variance\n",
    "- numpy.cov(x) : covariance matrix\n",
    "- numpy.corrcoef(x) : Pearson product-moment correlation coefficients\n",
    "\n",
    "These functions can be applied to the entire array, or to only one axis. When applied to one axis, then the parameter axis can be used. Similar functions exists which ignore NAN, these functions are called: `nanmedian`, `nanmean`, `nanstd`, `nanvar`. \n",
    "\n",
    "For more statistical functions in numpy: http://docs.scipy.org/doc/numpy/reference/routines.statistics.html"
   ]
  },
  {
   "cell_type": "markdown",
   "metadata": {},
   "source": [
    "### Exercise 3.6\n",
    "\n",
    "Define function `print_summary` which takes a structured vector of numerical values and prints, for each column, basic statistics:\n",
    "\n",
    "- name (name of the column in the input array)\n",
    "- mean \n",
    "- median\n",
    "- min (minimum value)\n",
    "- max (maximum value)\n",
    "- std (standard deviation)\n",
    "\n",
    "For example:\n",
    "```\n",
    "column: fixed_acidity\n",
    "mean: 8.31963727329581\n",
    "median: 7.9\n",
    "min: 4.6\n",
    "max: 15.9\n",
    "std: 1.7405518001102729\n",
    "column: volatile_acidity\n",
    "mean: 0.5278205128205128\n",
    "median: 0.52\n",
    "min: 0.12\n",
    "max: 1.58\n",
    "...\n",
    "```\n",
    "\n",
    "### Exercise 3.6b\n",
    "Modify the above function so that it takes an additional argument where the user can specify the number of decimal digits to display. For example, print(data, decimals=2):\n",
    "```\n",
    "column: fixed_acidity\n",
    "mean: 8.32\n",
    "median: 7.9\n",
    "min: 4.6\n",
    "max: 15.9\n",
    "std: 1.74\n",
    "....\n",
    "```\n"
   ]
  },
  {
   "cell_type": "markdown",
   "metadata": {},
   "source": [
    "## Python modules\n",
    "\n",
    "A Python module is a collection of reusable functions. You can create a module by putting some function definitions in a file with the extension `.py`. For example, put some of the functions you defined above in a file called `functions.py`. You can then use them from any notebook or other Python code by importing like this:\n",
    "\n",
    "```python\n",
    "from functions import * \n",
    "```\n",
    "This will import all functions from this module, and they can be used directly.\n",
    "\n",
    "The alternative is:\n",
    "\n",
    "```python\n",
    "import functions as F\n",
    "```\n",
    "where `F` is some shortened name. If your module have the function `scale`, you will then call it as `F.scale`.\n",
    "\n",
    "Try this in a new notebook.\n",
    "\n",
    "\n",
    "**For assignment 1 you will need to submit a Python module with a number of function definitions.** Make sure you understand this concept."
   ]
  },
  {
   "cell_type": "code",
   "execution_count": null,
   "metadata": {
    "collapsed": true
   },
   "outputs": [],
   "source": []
  }
 ],
 "metadata": {
  "kernelspec": {
   "display_name": "Python 3",
   "language": "python",
   "name": "python3"
  },
  "language_info": {
   "codemirror_mode": {
    "name": "ipython",
    "version": 3
   },
   "file_extension": ".py",
   "mimetype": "text/x-python",
   "name": "python",
   "nbconvert_exporter": "python",
   "pygments_lexer": "ipython3",
   "version": "3.4.3+"
  }
 },
 "nbformat": 4,
 "nbformat_minor": 0
}
